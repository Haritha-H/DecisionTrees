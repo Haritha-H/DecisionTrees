{
 "cells": [
  {
   "cell_type": "code",
   "execution_count": 1,
   "metadata": {},
   "outputs": [],
   "source": [
    "import pandas as pd\n",
    "import numpy as np\n",
    "import matplotlib.pyplot as plt\n",
    "%matplotlib inline"
   ]
  },
  {
   "cell_type": "code",
   "execution_count": 2,
   "metadata": {},
   "outputs": [
    {
     "data": {
      "text/html": [
       "<div>\n",
       "<style scoped>\n",
       "    .dataframe tbody tr th:only-of-type {\n",
       "        vertical-align: middle;\n",
       "    }\n",
       "\n",
       "    .dataframe tbody tr th {\n",
       "        vertical-align: top;\n",
       "    }\n",
       "\n",
       "    .dataframe thead th {\n",
       "        text-align: right;\n",
       "    }\n",
       "</style>\n",
       "<table border=\"1\" class=\"dataframe\">\n",
       "  <thead>\n",
       "    <tr style=\"text-align: right;\">\n",
       "      <th></th>\n",
       "      <th>ABV</th>\n",
       "      <th>Ratings</th>\n",
       "      <th>Cellar Temperature</th>\n",
       "      <th>Score</th>\n",
       "    </tr>\n",
       "  </thead>\n",
       "  <tbody>\n",
       "    <tr>\n",
       "      <th>0</th>\n",
       "      <td>6.5</td>\n",
       "      <td>22</td>\n",
       "      <td>40-45</td>\n",
       "      <td>3.28</td>\n",
       "    </tr>\n",
       "    <tr>\n",
       "      <th>1</th>\n",
       "      <td>5.5</td>\n",
       "      <td>1</td>\n",
       "      <td>35-40</td>\n",
       "      <td>3.52</td>\n",
       "    </tr>\n",
       "    <tr>\n",
       "      <th>2</th>\n",
       "      <td>8.1</td>\n",
       "      <td>3</td>\n",
       "      <td>35-40</td>\n",
       "      <td>4.01</td>\n",
       "    </tr>\n",
       "    <tr>\n",
       "      <th>3</th>\n",
       "      <td>NaN</td>\n",
       "      <td>0</td>\n",
       "      <td>35-40</td>\n",
       "      <td>0.00</td>\n",
       "    </tr>\n",
       "    <tr>\n",
       "      <th>4</th>\n",
       "      <td>6.0</td>\n",
       "      <td>1</td>\n",
       "      <td>35-40</td>\n",
       "      <td>2.73</td>\n",
       "    </tr>\n",
       "  </tbody>\n",
       "</table>\n",
       "</div>"
      ],
      "text/plain": [
       "   ABV Ratings Cellar Temperature  Score\n",
       "0  6.5      22              40-45   3.28\n",
       "1  5.5       1              35-40   3.52\n",
       "2  8.1       3              35-40   4.01\n",
       "3  NaN       0              35-40   0.00\n",
       "4  6.0       1              35-40   2.73"
      ]
     },
     "execution_count": 2,
     "metadata": {},
     "output_type": "execute_result"
    }
   ],
   "source": [
    "#Reading the dataset\n",
    "dataset = pd.read_csv('beer_data.csv')\n",
    "dataset.head()"
   ]
  },
  {
   "cell_type": "code",
   "execution_count": 3,
   "metadata": {},
   "outputs": [
    {
     "data": {
      "text/plain": [
       "ABV                   15130\n",
       "Ratings                   0\n",
       "Cellar Temperature     6781\n",
       "Score                     0\n",
       "dtype: int64"
      ]
     },
     "execution_count": 3,
     "metadata": {},
     "output_type": "execute_result"
    }
   ],
   "source": [
    "#Dealing with missing values\n",
    "dataset.isnull().sum()"
   ]
  },
  {
   "cell_type": "code",
   "execution_count": 4,
   "metadata": {},
   "outputs": [
    {
     "name": "stdout",
     "output_type": "stream",
     "text": [
      "<class 'pandas.core.frame.DataFrame'>\n",
      "RangeIndex: 185643 entries, 0 to 185642\n",
      "Data columns (total 4 columns):\n",
      " #   Column              Non-Null Count   Dtype  \n",
      "---  ------              --------------   -----  \n",
      " 0   ABV                 170513 non-null  float64\n",
      " 1   Ratings             185643 non-null  object \n",
      " 2   Cellar Temperature  178862 non-null  object \n",
      " 3   Score               185643 non-null  float64\n",
      "dtypes: float64(2), object(2)\n",
      "memory usage: 5.7+ MB\n"
     ]
    }
   ],
   "source": [
    "dataset.info()"
   ]
  },
  {
   "cell_type": "code",
   "execution_count": 5,
   "metadata": {},
   "outputs": [],
   "source": [
    "dataset['Ratings'] = dataset['Ratings'].apply(lambda x: np.float32(x.replace(\",\",\"\")))"
   ]
  },
  {
   "cell_type": "code",
   "execution_count": 6,
   "metadata": {},
   "outputs": [],
   "source": [
    "dataset['ABV'].fillna(dataset['ABV'].mean(),inplace=True)"
   ]
  },
  {
   "cell_type": "code",
   "execution_count": 7,
   "metadata": {},
   "outputs": [],
   "source": [
    "dataset = dataset[~dataset['Cellar Temperature'].isna()]\n",
    "dataset.reset_index(inplace = True, drop = True)"
   ]
  },
  {
   "cell_type": "code",
   "execution_count": 8,
   "metadata": {},
   "outputs": [
    {
     "data": {
      "text/plain": [
       "ABV                   0\n",
       "Ratings               0\n",
       "Cellar Temperature    0\n",
       "Score                 0\n",
       "dtype: int64"
      ]
     },
     "execution_count": 8,
     "metadata": {},
     "output_type": "execute_result"
    }
   ],
   "source": [
    "dataset.isnull().sum()"
   ]
  },
  {
   "cell_type": "code",
   "execution_count": 9,
   "metadata": {},
   "outputs": [],
   "source": [
    "#Dealing with Categorical Values\n",
    "dataset['Minimum Cellar Temperature'] = dataset['Cellar Temperature'].apply(lambda x : int(str(x).split('-')[0].strip()))\n",
    "dataset['Maximum Cellar Temperature'] = dataset['Cellar Temperature'].apply(lambda x : int(str(x).split('-')[1].strip()))"
   ]
  },
  {
   "cell_type": "code",
   "execution_count": 10,
   "metadata": {},
   "outputs": [],
   "source": [
    "dataset = dataset.drop(['Cellar Temperature'], axis = 1)"
   ]
  },
  {
   "cell_type": "code",
   "execution_count": 11,
   "metadata": {},
   "outputs": [
    {
     "name": "stdout",
     "output_type": "stream",
     "text": [
      "<class 'pandas.core.frame.DataFrame'>\n",
      "RangeIndex: 178862 entries, 0 to 178861\n",
      "Data columns (total 5 columns):\n",
      " #   Column                      Non-Null Count   Dtype  \n",
      "---  ------                      --------------   -----  \n",
      " 0   ABV                         178862 non-null  float64\n",
      " 1   Ratings                     178862 non-null  float64\n",
      " 2   Score                       178862 non-null  float64\n",
      " 3   Minimum Cellar Temperature  178862 non-null  int64  \n",
      " 4   Maximum Cellar Temperature  178862 non-null  int64  \n",
      "dtypes: float64(3), int64(2)\n",
      "memory usage: 6.8 MB\n"
     ]
    }
   ],
   "source": [
    "dataset.info()"
   ]
  },
  {
   "cell_type": "code",
   "execution_count": 12,
   "metadata": {},
   "outputs": [],
   "source": [
    "x = dataset.drop(['Score'],axis =1)\n",
    "y = dataset['Score']"
   ]
  },
  {
   "cell_type": "code",
   "execution_count": 13,
   "metadata": {},
   "outputs": [],
   "source": [
    "from sklearn.model_selection import train_test_split\n",
    "x_train,x_test,y_train,y_test = train_test_split(x,y,test_size = 0.2)"
   ]
  },
  {
   "cell_type": "code",
   "execution_count": 16,
   "metadata": {},
   "outputs": [
    {
     "data": {
      "text/plain": [
       "DecisionTreeRegressor()"
      ]
     },
     "execution_count": 16,
     "metadata": {},
     "output_type": "execute_result"
    }
   ],
   "source": [
    "from sklearn.tree import DecisionTreeRegressor\n",
    "#training and fitting the model\n",
    "reg = DecisionTreeRegressor()\n",
    "reg.fit(x_train,y_train)"
   ]
  },
  {
   "cell_type": "code",
   "execution_count": 17,
   "metadata": {},
   "outputs": [
    {
     "name": "stdout",
     "output_type": "stream",
     "text": [
      "Predictions\n",
      " [3.51822785 0.         3.41054965 ... 3.80353183 3.61686525 3.78941489]\n"
     ]
    }
   ],
   "source": [
    "#Predict the outcome of values\n",
    "y_predict = reg.predict(x_test)\n",
    "print(\"Predictions\\n\",y_predict)"
   ]
  },
  {
   "cell_type": "code",
   "execution_count": 18,
   "metadata": {},
   "outputs": [
    {
     "data": {
      "text/html": [
       "<div>\n",
       "<style scoped>\n",
       "    .dataframe tbody tr th:only-of-type {\n",
       "        vertical-align: middle;\n",
       "    }\n",
       "\n",
       "    .dataframe tbody tr th {\n",
       "        vertical-align: top;\n",
       "    }\n",
       "\n",
       "    .dataframe thead th {\n",
       "        text-align: right;\n",
       "    }\n",
       "</style>\n",
       "<table border=\"1\" class=\"dataframe\">\n",
       "  <thead>\n",
       "    <tr style=\"text-align: right;\">\n",
       "      <th></th>\n",
       "      <th>Actual</th>\n",
       "      <th>Predicted</th>\n",
       "      <th>Abs. Error</th>\n",
       "    </tr>\n",
       "  </thead>\n",
       "  <tbody>\n",
       "    <tr>\n",
       "      <th>171409</th>\n",
       "      <td>3.53</td>\n",
       "      <td>3.518228</td>\n",
       "      <td>0.011772</td>\n",
       "    </tr>\n",
       "    <tr>\n",
       "      <th>40042</th>\n",
       "      <td>0.00</td>\n",
       "      <td>0.000000</td>\n",
       "      <td>0.000000</td>\n",
       "    </tr>\n",
       "    <tr>\n",
       "      <th>31360</th>\n",
       "      <td>3.70</td>\n",
       "      <td>3.410550</td>\n",
       "      <td>0.289450</td>\n",
       "    </tr>\n",
       "    <tr>\n",
       "      <th>124591</th>\n",
       "      <td>3.91</td>\n",
       "      <td>4.003636</td>\n",
       "      <td>0.093636</td>\n",
       "    </tr>\n",
       "    <tr>\n",
       "      <th>42248</th>\n",
       "      <td>0.00</td>\n",
       "      <td>0.000000</td>\n",
       "      <td>0.000000</td>\n",
       "    </tr>\n",
       "    <tr>\n",
       "      <th>...</th>\n",
       "      <td>...</td>\n",
       "      <td>...</td>\n",
       "      <td>...</td>\n",
       "    </tr>\n",
       "    <tr>\n",
       "      <th>41154</th>\n",
       "      <td>3.00</td>\n",
       "      <td>3.481373</td>\n",
       "      <td>0.481373</td>\n",
       "    </tr>\n",
       "    <tr>\n",
       "      <th>150381</th>\n",
       "      <td>4.00</td>\n",
       "      <td>3.646846</td>\n",
       "      <td>0.353154</td>\n",
       "    </tr>\n",
       "    <tr>\n",
       "      <th>173523</th>\n",
       "      <td>3.98</td>\n",
       "      <td>3.803532</td>\n",
       "      <td>0.176468</td>\n",
       "    </tr>\n",
       "    <tr>\n",
       "      <th>49582</th>\n",
       "      <td>4.14</td>\n",
       "      <td>3.616865</td>\n",
       "      <td>0.523135</td>\n",
       "    </tr>\n",
       "    <tr>\n",
       "      <th>1943</th>\n",
       "      <td>3.38</td>\n",
       "      <td>3.789415</td>\n",
       "      <td>0.409415</td>\n",
       "    </tr>\n",
       "  </tbody>\n",
       "</table>\n",
       "<p>35773 rows × 3 columns</p>\n",
       "</div>"
      ],
      "text/plain": [
       "        Actual  Predicted  Abs. Error\n",
       "171409    3.53   3.518228    0.011772\n",
       "40042     0.00   0.000000    0.000000\n",
       "31360     3.70   3.410550    0.289450\n",
       "124591    3.91   4.003636    0.093636\n",
       "42248     0.00   0.000000    0.000000\n",
       "...        ...        ...         ...\n",
       "41154     3.00   3.481373    0.481373\n",
       "150381    4.00   3.646846    0.353154\n",
       "173523    3.98   3.803532    0.176468\n",
       "49582     4.14   3.616865    0.523135\n",
       "1943      3.38   3.789415    0.409415\n",
       "\n",
       "[35773 rows x 3 columns]"
      ]
     },
     "execution_count": 18,
     "metadata": {},
     "output_type": "execute_result"
    }
   ],
   "source": [
    "error_df = pd.DataFrame({\"Actual\" : y_test,\n",
    "                         \"Predicted\" : y_predict,\n",
    "                         \"Abs. Error\" : np.abs(y_test - y_predict)})\n",
    "\n",
    "error_df"
   ]
  },
  {
   "cell_type": "code",
   "execution_count": 21,
   "metadata": {},
   "outputs": [
    {
     "data": {
      "image/png": "[encoded data removed]",
      "text/plain": [
       "<Figure size 432x288 with 1 Axes>"
      ]
     },
     "metadata": {
      "needs_background": "light"
     },
     "output_type": "display_data"
    }
   ],
   "source": [
    "#Plotting Actual observation vs Predictions\n",
    "plt.scatter(y_test, y_predict, s = 70)\n",
    "plt.xlabel('Actual')\n",
    "plt.ylabel('Predicted')\n",
    "plt.grid()\n",
    "plt.show()"
   ]
  },
  {
   "cell_type": "code",
   "execution_count": null,
   "metadata": {},
   "outputs": [],
   "source": []
  }
 ],
 "metadata": {
  "kernelspec": {
   "display_name": "Python 3",
   "language": "python",
   "name": "python3"
  },
  "language_info": {
   "codemirror_mode": {
    "name": "ipython",
    "version": 3
   },
   "file_extension": ".py",
   "mimetype": "text/x-python",
   "name": "python",
   "nbconvert_exporter": "python",
   "pygments_lexer": "ipython3",
   "version": "3.8.3"
  }
 },
 "nbformat": 4,
 "nbformat_minor": 4
}
